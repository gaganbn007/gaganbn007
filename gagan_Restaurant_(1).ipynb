{
  "cells": [
    {
      "cell_type": "markdown",
      "metadata": {
        "id": "view-in-github",
        "colab_type": "text"
      },
      "source": [
        "<a href=\"https://colab.research.google.com/github/gaganbn007/gaganbn007/blob/main/gagan_Restaurant_(1).ipynb\" target=\"_parent\"><img src=\"https://colab.research.google.com/assets/colab-badge.svg\" alt=\"Open In Colab\"/></a>"
      ]
    },
    {
      "cell_type": "code",
      "execution_count": null,
      "id": "596ed344",
      "metadata": {
        "id": "596ed344",
        "outputId": "583a48fb-00b3-4185-e817-247ee0e9e58c"
      },
      "outputs": [
        {
          "name": "stdout",
          "output_type": "stream",
          "text": [
            "enter ur usernamewwww\n",
            "enter ur password1111\n",
            "Username:  wwww\n",
            "Password 1111\n",
            "\n",
            "looking for veg or non-veg restaurants, press 1 for veg and 2 for non-veg3\n",
            "enter either 1 or 2\n"
          ]
        }
      ],
      "source": [
        "def login( name, pswd ):\n",
        "    print (\"Username: \", name)\n",
        "    print (\"Password\", pswd)\n",
        "    print()\n",
        "    return;\n",
        "\n",
        "def veg():\n",
        "    print(\"welcome to veg restaurant\")\n",
        "    return;\n",
        "\n",
        "\n",
        "def nonveg():\n",
        "    print(\"welcome to non-veg restaurant\")\n",
        "    return;\n",
        "\n",
        "user=input(\"enter ur username\")\n",
        "password=input(\"enter ur password\")\n",
        "login( user, password )\n",
        "\n",
        "\n",
        "choice=int(input(\"looking for veg or non-veg restaurants, press 1 for veg and 2 for non-veg\"))\n",
        "\n",
        "if choice==1:  \n",
        "    veg()  \n",
        "elif choice==2:  \n",
        "    nonveg()\n",
        "else:\n",
        "    print(\"enter either 1 or 2\")\n",
        "\n",
        "    \n",
        "\n",
        "\n"
      ]
    },
    {
      "cell_type": "code",
      "execution_count": null,
      "id": "f79a0c07",
      "metadata": {
        "id": "f79a0c07"
      },
      "outputs": [],
      "source": [
        ""
      ]
    }
  ],
  "metadata": {
    "kernelspec": {
      "display_name": "Python 3",
      "language": "python",
      "name": "python3"
    },
    "language_info": {
      "codemirror_mode": {
        "name": "ipython",
        "version": 3
      },
      "file_extension": ".py",
      "mimetype": "text/x-python",
      "name": "python",
      "nbconvert_exporter": "python",
      "pygments_lexer": "ipython3",
      "version": "3.8.8"
    },
    "colab": {
      "name": "gagan_Restaurant (1).ipynb",
      "provenance": [],
      "collapsed_sections": [],
      "include_colab_link": true
    }
  },
  "nbformat": 4,
  "nbformat_minor": 5
}